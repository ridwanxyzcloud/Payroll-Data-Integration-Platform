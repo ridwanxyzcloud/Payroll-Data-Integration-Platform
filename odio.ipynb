{
 "cells": [
  {
   "cell_type": "code",
   "id": "initial_id",
   "metadata": {
    "collapsed": true,
    "ExecuteTime": {
     "end_time": "2024-08-15T14:46:57.063203Z",
     "start_time": "2024-08-15T14:46:57.044817Z"
    }
   },
   "source": "import pandas as pd",
   "outputs": [],
   "execution_count": 19
  },
  {
   "metadata": {
    "ExecuteTime": {
     "end_time": "2024-08-15T14:47:01.663927Z",
     "start_time": "2024-08-15T14:47:01.600443Z"
    }
   },
   "cell_type": "code",
   "source": [
    "EmpMaster = pd.read_csv('./data_sample/raw/EmpMaster.csv')\n",
    "EmpMaster.head()"
   ],
   "id": "50ce7335b68b7e8c",
   "outputs": [
    {
     "data": {
      "text/plain": [
       "   EmployeeID LastName FirstName\n",
       "0      100001   AACHEN     DAVID\n",
       "1      100002   AACHEN    MONICA\n",
       "2      100003   AADAMS   LAMMELL\n",
       "3      100004    AADIL      IRIS\n",
       "4      100005   AALAAM      AMIR"
      ],
      "text/html": [
       "<div>\n",
       "<style scoped>\n",
       "    .dataframe tbody tr th:only-of-type {\n",
       "        vertical-align: middle;\n",
       "    }\n",
       "\n",
       "    .dataframe tbody tr th {\n",
       "        vertical-align: top;\n",
       "    }\n",
       "\n",
       "    .dataframe thead th {\n",
       "        text-align: right;\n",
       "    }\n",
       "</style>\n",
       "<table border=\"1\" class=\"dataframe\">\n",
       "  <thead>\n",
       "    <tr style=\"text-align: right;\">\n",
       "      <th></th>\n",
       "      <th>EmployeeID</th>\n",
       "      <th>LastName</th>\n",
       "      <th>FirstName</th>\n",
       "    </tr>\n",
       "  </thead>\n",
       "  <tbody>\n",
       "    <tr>\n",
       "      <th>0</th>\n",
       "      <td>100001</td>\n",
       "      <td>AACHEN</td>\n",
       "      <td>DAVID</td>\n",
       "    </tr>\n",
       "    <tr>\n",
       "      <th>1</th>\n",
       "      <td>100002</td>\n",
       "      <td>AACHEN</td>\n",
       "      <td>MONICA</td>\n",
       "    </tr>\n",
       "    <tr>\n",
       "      <th>2</th>\n",
       "      <td>100003</td>\n",
       "      <td>AADAMS</td>\n",
       "      <td>LAMMELL</td>\n",
       "    </tr>\n",
       "    <tr>\n",
       "      <th>3</th>\n",
       "      <td>100004</td>\n",
       "      <td>AADIL</td>\n",
       "      <td>IRIS</td>\n",
       "    </tr>\n",
       "    <tr>\n",
       "      <th>4</th>\n",
       "      <td>100005</td>\n",
       "      <td>AALAAM</td>\n",
       "      <td>AMIR</td>\n",
       "    </tr>\n",
       "  </tbody>\n",
       "</table>\n",
       "</div>"
      ]
     },
     "execution_count": 20,
     "metadata": {},
     "output_type": "execute_result"
    }
   ],
   "execution_count": 20
  },
  {
   "metadata": {
    "ExecuteTime": {
     "end_time": "2024-08-15T14:35:04.970231Z",
     "start_time": "2024-08-15T14:35:04.948343Z"
    }
   },
   "cell_type": "code",
   "source": "EmpMaster.describe()",
   "id": "c901442540f74869",
   "outputs": [
    {
     "data": {
      "text/plain": [
       "          EmployeeID\n",
       "count    1000.000000\n",
       "mean   100500.500000\n",
       "std       288.819436\n",
       "min    100001.000000\n",
       "25%    100250.750000\n",
       "50%    100500.500000\n",
       "75%    100750.250000\n",
       "max    101000.000000"
      ],
      "text/html": [
       "<div>\n",
       "<style scoped>\n",
       "    .dataframe tbody tr th:only-of-type {\n",
       "        vertical-align: middle;\n",
       "    }\n",
       "\n",
       "    .dataframe tbody tr th {\n",
       "        vertical-align: top;\n",
       "    }\n",
       "\n",
       "    .dataframe thead th {\n",
       "        text-align: right;\n",
       "    }\n",
       "</style>\n",
       "<table border=\"1\" class=\"dataframe\">\n",
       "  <thead>\n",
       "    <tr style=\"text-align: right;\">\n",
       "      <th></th>\n",
       "      <th>EmployeeID</th>\n",
       "    </tr>\n",
       "  </thead>\n",
       "  <tbody>\n",
       "    <tr>\n",
       "      <th>count</th>\n",
       "      <td>1000.000000</td>\n",
       "    </tr>\n",
       "    <tr>\n",
       "      <th>mean</th>\n",
       "      <td>100500.500000</td>\n",
       "    </tr>\n",
       "    <tr>\n",
       "      <th>std</th>\n",
       "      <td>288.819436</td>\n",
       "    </tr>\n",
       "    <tr>\n",
       "      <th>min</th>\n",
       "      <td>100001.000000</td>\n",
       "    </tr>\n",
       "    <tr>\n",
       "      <th>25%</th>\n",
       "      <td>100250.750000</td>\n",
       "    </tr>\n",
       "    <tr>\n",
       "      <th>50%</th>\n",
       "      <td>100500.500000</td>\n",
       "    </tr>\n",
       "    <tr>\n",
       "      <th>75%</th>\n",
       "      <td>100750.250000</td>\n",
       "    </tr>\n",
       "    <tr>\n",
       "      <th>max</th>\n",
       "      <td>101000.000000</td>\n",
       "    </tr>\n",
       "  </tbody>\n",
       "</table>\n",
       "</div>"
      ]
     },
     "execution_count": 12,
     "metadata": {},
     "output_type": "execute_result"
    }
   ],
   "execution_count": 12
  },
  {
   "metadata": {
    "ExecuteTime": {
     "end_time": "2024-08-15T14:35:07.963666Z",
     "start_time": "2024-08-15T14:35:07.942956Z"
    }
   },
   "cell_type": "code",
   "source": "EmpMaster.info()",
   "id": "ab54d2c54e70232",
   "outputs": [
    {
     "name": "stdout",
     "output_type": "stream",
     "text": [
      "<class 'pandas.core.frame.DataFrame'>\n",
      "RangeIndex: 1000 entries, 0 to 999\n",
      "Data columns (total 3 columns):\n",
      " #   Column      Non-Null Count  Dtype \n",
      "---  ------      --------------  ----- \n",
      " 0   EmployeeID  1000 non-null   int64 \n",
      " 1   LastName    1000 non-null   object\n",
      " 2   FirstName   1000 non-null   object\n",
      "dtypes: int64(1), object(2)\n",
      "memory usage: 23.6+ KB\n"
     ]
    }
   ],
   "execution_count": 13
  },
  {
   "metadata": {
    "ExecuteTime": {
     "end_time": "2024-08-15T14:35:14.148756Z",
     "start_time": "2024-08-15T14:35:14.116058Z"
    }
   },
   "cell_type": "code",
   "source": "EmpMaster.isnull().sum()",
   "id": "bffb205ef0f9a6e6",
   "outputs": [
    {
     "data": {
      "text/plain": [
       "EmployeeID    0\n",
       "LastName      0\n",
       "FirstName     0\n",
       "dtype: int64"
      ]
     },
     "execution_count": 14,
     "metadata": {},
     "output_type": "execute_result"
    }
   ],
   "execution_count": 14
  },
  {
   "metadata": {
    "ExecuteTime": {
     "end_time": "2024-08-15T14:35:34.774441Z",
     "start_time": "2024-08-15T14:35:34.760729Z"
    }
   },
   "cell_type": "code",
   "source": "EmpMaster.duplicated().sum()",
   "id": "1452af259629b2fe",
   "outputs": [
    {
     "data": {
      "text/plain": [
       "np.int64(0)"
      ]
     },
     "execution_count": 16,
     "metadata": {},
     "output_type": "execute_result"
    }
   ],
   "execution_count": 16
  },
  {
   "metadata": {
    "ExecuteTime": {
     "end_time": "2024-08-15T15:15:14.598969Z",
     "start_time": "2024-08-15T15:15:14.545267Z"
    }
   },
   "cell_type": "code",
   "source": "EmpMaster.columns",
   "id": "861f9e1a7dcd9ad7",
   "outputs": [
    {
     "data": {
      "text/plain": [
       "Index(['EmployeeID', 'LastName', 'FirstName'], dtype='object')"
      ]
     },
     "execution_count": 31,
     "metadata": {},
     "output_type": "execute_result"
    }
   ],
   "execution_count": 31
  },
  {
   "metadata": {
    "ExecuteTime": {
     "end_time": "2024-08-15T14:48:00.171186Z",
     "start_time": "2024-08-15T14:48:00.146697Z"
    }
   },
   "cell_type": "code",
   "source": [
    "TitleMaster = pd.read_csv('./data_sample/raw/TitleMaster.csv')\n",
    "TitleMaster.head()"
   ],
   "id": "51ffa54a04d18631",
   "outputs": [
    {
     "data": {
      "text/plain": [
       "   TitleCode                TitleDescription\n",
       "0      40001  *ADM SCHOOL SECURITY MANAGER-U\n",
       "1      40002       *ADMIN SCHL SECUR MGR-MGL\n",
       "2      40003                *AGENCY ATTORNEY\n",
       "3      40004          *ASSISTANT ADVOCATE-PD\n",
       "4      40005    *ASSOCIATE EDUCATION OFFICER"
      ],
      "text/html": [
       "<div>\n",
       "<style scoped>\n",
       "    .dataframe tbody tr th:only-of-type {\n",
       "        vertical-align: middle;\n",
       "    }\n",
       "\n",
       "    .dataframe tbody tr th {\n",
       "        vertical-align: top;\n",
       "    }\n",
       "\n",
       "    .dataframe thead th {\n",
       "        text-align: right;\n",
       "    }\n",
       "</style>\n",
       "<table border=\"1\" class=\"dataframe\">\n",
       "  <thead>\n",
       "    <tr style=\"text-align: right;\">\n",
       "      <th></th>\n",
       "      <th>TitleCode</th>\n",
       "      <th>TitleDescription</th>\n",
       "    </tr>\n",
       "  </thead>\n",
       "  <tbody>\n",
       "    <tr>\n",
       "      <th>0</th>\n",
       "      <td>40001</td>\n",
       "      <td>*ADM SCHOOL SECURITY MANAGER-U</td>\n",
       "    </tr>\n",
       "    <tr>\n",
       "      <th>1</th>\n",
       "      <td>40002</td>\n",
       "      <td>*ADMIN SCHL SECUR MGR-MGL</td>\n",
       "    </tr>\n",
       "    <tr>\n",
       "      <th>2</th>\n",
       "      <td>40003</td>\n",
       "      <td>*AGENCY ATTORNEY</td>\n",
       "    </tr>\n",
       "    <tr>\n",
       "      <th>3</th>\n",
       "      <td>40004</td>\n",
       "      <td>*ASSISTANT ADVOCATE-PD</td>\n",
       "    </tr>\n",
       "    <tr>\n",
       "      <th>4</th>\n",
       "      <td>40005</td>\n",
       "      <td>*ASSOCIATE EDUCATION OFFICER</td>\n",
       "    </tr>\n",
       "  </tbody>\n",
       "</table>\n",
       "</div>"
      ]
     },
     "execution_count": 23,
     "metadata": {},
     "output_type": "execute_result"
    }
   ],
   "execution_count": 23
  },
  {
   "metadata": {
    "ExecuteTime": {
     "end_time": "2024-08-15T14:48:44.671230Z",
     "start_time": "2024-08-15T14:48:44.634998Z"
    }
   },
   "cell_type": "code",
   "source": "TitleMaster.describe()",
   "id": "7862dd4c47d90627",
   "outputs": [
    {
     "data": {
      "text/plain": [
       "          TitleCode\n",
       "count   1446.000000\n",
       "mean   40723.500000\n",
       "std      417.568557\n",
       "min    40001.000000\n",
       "25%    40362.250000\n",
       "50%    40723.500000\n",
       "75%    41084.750000\n",
       "max    41446.000000"
      ],
      "text/html": [
       "<div>\n",
       "<style scoped>\n",
       "    .dataframe tbody tr th:only-of-type {\n",
       "        vertical-align: middle;\n",
       "    }\n",
       "\n",
       "    .dataframe tbody tr th {\n",
       "        vertical-align: top;\n",
       "    }\n",
       "\n",
       "    .dataframe thead th {\n",
       "        text-align: right;\n",
       "    }\n",
       "</style>\n",
       "<table border=\"1\" class=\"dataframe\">\n",
       "  <thead>\n",
       "    <tr style=\"text-align: right;\">\n",
       "      <th></th>\n",
       "      <th>TitleCode</th>\n",
       "    </tr>\n",
       "  </thead>\n",
       "  <tbody>\n",
       "    <tr>\n",
       "      <th>count</th>\n",
       "      <td>1446.000000</td>\n",
       "    </tr>\n",
       "    <tr>\n",
       "      <th>mean</th>\n",
       "      <td>40723.500000</td>\n",
       "    </tr>\n",
       "    <tr>\n",
       "      <th>std</th>\n",
       "      <td>417.568557</td>\n",
       "    </tr>\n",
       "    <tr>\n",
       "      <th>min</th>\n",
       "      <td>40001.000000</td>\n",
       "    </tr>\n",
       "    <tr>\n",
       "      <th>25%</th>\n",
       "      <td>40362.250000</td>\n",
       "    </tr>\n",
       "    <tr>\n",
       "      <th>50%</th>\n",
       "      <td>40723.500000</td>\n",
       "    </tr>\n",
       "    <tr>\n",
       "      <th>75%</th>\n",
       "      <td>41084.750000</td>\n",
       "    </tr>\n",
       "    <tr>\n",
       "      <th>max</th>\n",
       "      <td>41446.000000</td>\n",
       "    </tr>\n",
       "  </tbody>\n",
       "</table>\n",
       "</div>"
      ]
     },
     "execution_count": 25,
     "metadata": {},
     "output_type": "execute_result"
    }
   ],
   "execution_count": 25
  },
  {
   "metadata": {
    "ExecuteTime": {
     "end_time": "2024-08-15T14:49:46.595797Z",
     "start_time": "2024-08-15T14:49:46.583576Z"
    }
   },
   "cell_type": "code",
   "source": "TitleMaster.isnull().sum()",
   "id": "51ad3ab203ee01c1",
   "outputs": [
    {
     "data": {
      "text/plain": [
       "TitleCode           0\n",
       "TitleDescription    1\n",
       "dtype: int64"
      ]
     },
     "execution_count": 26,
     "metadata": {},
     "output_type": "execute_result"
    }
   ],
   "execution_count": 26
  },
  {
   "metadata": {},
   "cell_type": "markdown",
   "source": "",
   "id": "43e323dbe91428c9"
  },
  {
   "metadata": {
    "ExecuteTime": {
     "end_time": "2024-08-15T15:17:08.390367Z",
     "start_time": "2024-08-15T15:17:08.379726Z"
    }
   },
   "cell_type": "code",
   "source": "EmpMaster.columns",
   "id": "5437da842168cc88",
   "outputs": [
    {
     "data": {
      "text/plain": [
       "Index(['EmployeeID', 'LastName', 'FirstName'], dtype='object')"
      ]
     },
     "execution_count": 33,
     "metadata": {},
     "output_type": "execute_result"
    }
   ],
   "execution_count": 33
  },
  {
   "metadata": {},
   "cell_type": "markdown",
   "source": "",
   "id": "4224be4ab264a89b"
  },
  {
   "metadata": {
    "ExecuteTime": {
     "end_time": "2024-08-15T15:26:55.276443Z",
     "start_time": "2024-08-15T15:26:55.259073Z"
    }
   },
   "cell_type": "code",
   "source": [
    "\n",
    "TitleMaster.columns"
   ],
   "id": "f9e6fa6f9b1befe2",
   "outputs": [
    {
     "data": {
      "text/plain": [
       "Index(['TitleCode', 'TitleDescription'], dtype='object')"
      ]
     },
     "execution_count": 34,
     "metadata": {},
     "output_type": "execute_result"
    }
   ],
   "execution_count": 34
  },
  {
   "metadata": {
    "ExecuteTime": {
     "end_time": "2024-08-15T15:27:25.523856Z",
     "start_time": "2024-08-15T15:27:25.497603Z"
    }
   },
   "cell_type": "code",
   "source": [
    "AgencyMaster = pd.read_csv('./data_sample/raw/AgencyMaster.csv')\n",
    "AgencyMaster.columns"
   ],
   "id": "d67488e09f0fae7",
   "outputs": [
    {
     "data": {
      "text/plain": [
       "Index(['AgencyID', 'AgencyName'], dtype='object')"
      ]
     },
     "execution_count": 35,
     "metadata": {},
     "output_type": "execute_result"
    }
   ],
   "execution_count": 35
  },
  {
   "metadata": {
    "ExecuteTime": {
     "end_time": "2024-08-15T15:55:41.478290Z",
     "start_time": "2024-08-15T15:55:41.439669Z"
    }
   },
   "cell_type": "code",
   "source": [
    "nycpayroll_2020 = pd.read_csv('./data_sample/raw/nycpayroll_2020.csv')\n",
    "nycpayroll_2020.info()"
   ],
   "id": "aa63352b0dd22028",
   "outputs": [
    {
     "name": "stdout",
     "output_type": "stream",
     "text": [
      "<class 'pandas.core.frame.DataFrame'>\n",
      "RangeIndex: 100 entries, 0 to 99\n",
      "Data columns (total 19 columns):\n",
      " #   Column                 Non-Null Count  Dtype  \n",
      "---  ------                 --------------  -----  \n",
      " 0   FiscalYear             100 non-null    int64  \n",
      " 1   PayrollNumber          100 non-null    int64  \n",
      " 2   AgencyID               100 non-null    int64  \n",
      " 3   AgencyName             100 non-null    object \n",
      " 4   EmployeeID             100 non-null    int64  \n",
      " 5   LastName               100 non-null    object \n",
      " 6   FirstName              100 non-null    object \n",
      " 7   AgencyStartDate        100 non-null    object \n",
      " 8   WorkLocationBorough    100 non-null    object \n",
      " 9   TitleCode              100 non-null    int64  \n",
      " 10  TitleDescription       100 non-null    object \n",
      " 11  LeaveStatusasofJune30  100 non-null    object \n",
      " 12  BaseSalary             100 non-null    float64\n",
      " 13  PayBasis               100 non-null    object \n",
      " 14  RegularHours           100 non-null    float64\n",
      " 15  RegularGrossPaid       100 non-null    float64\n",
      " 16  OTHours                100 non-null    float64\n",
      " 17  TotalOTPaid            100 non-null    float64\n",
      " 18  TotalOtherPay          100 non-null    float64\n",
      "dtypes: float64(6), int64(5), object(8)\n",
      "memory usage: 15.0+ KB\n"
     ]
    }
   ],
   "execution_count": 40
  },
  {
   "metadata": {
    "ExecuteTime": {
     "end_time": "2024-08-15T15:28:12.763038Z",
     "start_time": "2024-08-15T15:28:12.744409Z"
    }
   },
   "cell_type": "code",
   "source": [
    "\n",
    "nycpayroll_2021 = pd.read_csv('./data_sample/raw/nycpayroll_2021.csv')\n",
    "nycpayroll_2021.columns"
   ],
   "id": "f5fb935e7581ec74",
   "outputs": [
    {
     "data": {
      "text/plain": [
       "Index(['FiscalYear', 'PayrollNumber', 'AgencyCode', 'AgencyName', 'EmployeeID',\n",
       "       'LastName', 'FirstName', 'AgencyStartDate', 'WorkLocationBorough',\n",
       "       'TitleCode', 'TitleDescription', 'LeaveStatusasofJune30', 'BaseSalary',\n",
       "       'PayBasis', 'RegularHours', 'RegularGrossPaid', 'OTHours',\n",
       "       'TotalOTPaid', 'TotalOtherPay'],\n",
       "      dtype='object')"
      ]
     },
     "execution_count": 37,
     "metadata": {},
     "output_type": "execute_result"
    }
   ],
   "execution_count": 37
  },
  {
   "metadata": {},
   "cell_type": "code",
   "outputs": [],
   "execution_count": null,
   "source": "",
   "id": "b129a2ec0d4ba372"
  }
 ],
 "metadata": {
  "kernelspec": {
   "display_name": "Python 3",
   "language": "python",
   "name": "python3"
  },
  "language_info": {
   "codemirror_mode": {
    "name": "ipython",
    "version": 2
   },
   "file_extension": ".py",
   "mimetype": "text/x-python",
   "name": "python",
   "nbconvert_exporter": "python",
   "pygments_lexer": "ipython2",
   "version": "2.7.6"
  }
 },
 "nbformat": 4,
 "nbformat_minor": 5
}
