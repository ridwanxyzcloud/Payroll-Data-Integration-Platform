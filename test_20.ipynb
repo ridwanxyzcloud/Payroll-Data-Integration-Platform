{
 "cells": [
  {
   "cell_type": "code",
   "execution_count": null,
   "id": "initial_id",
   "metadata": {
    "collapsed": true
   },
   "outputs": [],
   "source": [
    "import logging \n",
    "import pandas as pd\n"
   ]
  },
  {
   "metadata": {
    "ExecuteTime": {
     "end_time": "2024-08-21T21:27:12.842500Z",
     "start_time": "2024-08-21T21:27:12.706647Z"
    }
   },
   "cell_type": "code",
   "source": [
    "def extract_from_s3(s3_client, bucket, prefix, file_name):\n",
    "    try:\n",
    "        logging.info(f\"Extracting {file_name} from S3\")\n",
    "        obj = s3_client.get_object(Bucket=bucket, Key=prefix + file_name)\n",
    "        df = pd.read_csv(StringIO(obj['Body'].read().decode('utf-8')))\n",
    "\n",
    "        # Update metrics\n",
    "        files_extracted.inc()  # Increment the count of files extracted\n",
    "\n",
    "        return df\n",
    "    except Exception as e:\n",
    "        logging.error(f\"Failed to extract {file_name}: {str(e)}\")\n",
    "        raise\n"
   ],
   "id": "afcb1b4f553ebfa1",
   "outputs": [],
   "execution_count": 1
  },
  {
   "metadata": {
    "ExecuteTime": {
     "end_time": "2024-08-21T21:27:12.954896Z",
     "start_time": "2024-08-21T21:27:12.889303Z"
    }
   },
   "cell_type": "code",
   "source": "",
   "id": "b5bbf63852ffbe80",
   "outputs": [],
   "execution_count": 1
  },
  {
   "metadata": {},
   "cell_type": "code",
   "outputs": [],
   "execution_count": null,
   "source": "",
   "id": "a057e3e66c1d0b0c"
  }
 ],
 "metadata": {
  "kernelspec": {
   "display_name": "Python 3",
   "language": "python",
   "name": "python3"
  },
  "language_info": {
   "codemirror_mode": {
    "name": "ipython",
    "version": 2
   },
   "file_extension": ".py",
   "mimetype": "text/x-python",
   "name": "python",
   "nbconvert_exporter": "python",
   "pygments_lexer": "ipython2",
   "version": "2.7.6"
  }
 },
 "nbformat": 4,
 "nbformat_minor": 5
}
